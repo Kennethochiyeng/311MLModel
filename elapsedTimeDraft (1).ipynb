{
 "cells": [
  {
   "cell_type": "code",
   "execution_count": 1,
   "metadata": {},
   "outputs": [],
   "source": [
    "import numpy as np\n",
    "import pandas as pd\n",
    "from datetime import datetime \n",
    "import csv \n",
    "import matplotlib.pyplot as plt"
   ]
  },
  {
   "cell_type": "code",
   "execution_count": 2,
   "metadata": {},
   "outputs": [],
   "source": [
    "def convertTime(str):\n",
    "    \"\"\"Converts a string to a datetime object.\n",
    "    \"\"\"\n",
    "    time = datetime.strptime(string,'%m/%d/%Y %I:%M:%S %p') #Accepts time string, converts it to datetime object.\n",
    "    return time\n",
    "    \n",
    "def createCols(csv):\n",
    "    \"\"\"\n",
    "    Accepts CSV file and creates new dataframe of all timestamps for both service request\n",
    "    submission and fulfillment times.\n",
    "    \"\"\"\n",
    "   \n",
    "    df = pd.read_csv(csv)\n",
    "   \n",
    "    hdf = df[['CreatedDate','ServiceDate']].dropna()\n",
    "   \n",
    "    hdf['Converted Created Times'] = hdf['CreatedDate'].apply(convertTime, 0)\n",
    "    hdf['Converted Service Times'] = hdf['ServiceDate'].apply(convertTime, 0)\n",
    "   \n",
    "    return hdf.head()\n",
    "     \n",
    "    \n",
    "\n",
    "\n",
    "    "
   ]
  },
  {
   "cell_type": "code",
   "execution_count": null,
   "metadata": {},
   "outputs": [],
   "source": [
    "createCols(r\"C:\\Users\\hanaa\\OneDrive\\Desktop\\testData2.csv\")"
   ]
  },
  {
   "cell_type": "code",
   "execution_count": null,
   "metadata": {},
   "outputs": [],
   "source": []
  },
  {
   "cell_type": "code",
   "execution_count": null,
   "metadata": {},
   "outputs": [],
   "source": []
  }
 ],
 "metadata": {
  "kernelspec": {
   "display_name": "Python 3",
   "language": "python",
   "name": "python3"
  },
  "language_info": {
   "codemirror_mode": {
    "name": "ipython",
    "version": 3
   },
   "file_extension": ".py",
   "mimetype": "text/x-python",
   "name": "python",
   "nbconvert_exporter": "python",
   "pygments_lexer": "ipython3",
   "version": "3.7.4"
  }
 },
 "nbformat": 4,
 "nbformat_minor": 4
}
