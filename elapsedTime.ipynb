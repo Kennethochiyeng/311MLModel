#!/usr/bin/env python
# coding: utf-8

# In[1]:


import numpy as np
import pandas as pd
from datetime import datetime 


# In[2]:


def convertTime(string):
    """Converts a string to a datetime object.
    """
    date = datetime.strptime(string,'%I:%M:%S %p') #Accepts time string, converts it to datetime object. 
    return date
    
def startTime(csv):
    """
        Accepts a CSV file an creates a new dataframe of all timestamps for when a service request was submitted.
        Data source: https://data.lacity.org/A-Well-Run-City/MyLA311-Service-Request-Data-2019/pvft-t768
    """
    df = pd.read_csv(csv)
    hdf = df['Created Date'] #filters dataframe to only include 'Created Date' column
    hdf['Converted Created Times'] = hdf['Created Date'].apply(convertTime, 0) #applies convertTime function to all datetime strings in 'Created Date' column
    
def endTime(string):
    """
        Accepts a CSV file an creates a new dataframe of all timestamps for when a service request was fulfilled.
        Data source: https://data.lacity.org/A-Well-Run-City/MyLA311-Service-Request-Data-2019/pvft-t768
    """   
    df = pd.read_csv(csv)
    hdf = df['Service Date']
    hdf['Converted Service Times'] = hdf['Service Date'].apply(convertTime, 0) #applies convertTime function to all datetime strings in 'Service Date' column
        
    start_time = datetime.strptime('00:00:00 AM','%I:%M:%S %p') #Sets start time for filter
    end_time = datetime.strptime('11:59:59 PM','%I:%M:%S %p') # Sets end time for filter
    


# In[ ]:





# In[ ]:




