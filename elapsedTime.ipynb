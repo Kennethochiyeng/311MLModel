import numpy as np
import pandas as pd
from datetime import datetime 
import csv 
import matplotlib.pyplot as plt

def convertTime(str):
    """Converts a string to a datetime object.
    """
    time = datetime.strptime(string,'%m/%d/%Y %I:%M:%S %p') #Accepts time string, converts it to datetime object.
    return time
    
def createCols(csv):
    """
    Accepts CSV file and creates new dataframe of all timestamps for both service request
    submission and fulfillment times.
    """
   
    df = pd.read_csv(csv)
   
    hdf = df[['CreatedDate','ServiceDate']].dropna()
   
    hdf['Converted Created Times'] = hdf['CreatedDate'].apply(convertTime, 0)
    hdf['Converted Service Times'] = hdf['ServiceDate'].apply(convertTime, 0)
   
    return hdf.head()
     
    


    
