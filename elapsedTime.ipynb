{
 "cells": [
  {
   "cell_type": "code",
   "execution_count": 1,
   "metadata": {},
   "outputs": [],
   "source": [
    "import numpy as np\n",
    "import pandas as pd\n",
    "from datetime import datetime "
   ]
  },
  {
   "cell_type": "code",
   "execution_count": 2,
   "metadata": {},
   "outputs": [],
   "source": [
    "def convertTime(string):\n",
    "    \"\"\"Converts a string to a datetime object.\n",
    "    \"\"\"\n",
    "    time = datetime.strptime(string,'%I:%M:%S %p') #Accepts time string, converts it to datetime object. \n",
    "    return time\n",
    "    \n",
    "def startTime(csv):\n",
    "    \"\"\"\n",
    "        Accepts a CSV file an creates a new dataframe of all timestamps for when a service request was submitted.\n",
    "        Data source: https://data.lacity.org/A-Well-Run-City/MyLA311-Service-Request-Data-2019/pvft-t768\n",
    "    \"\"\"\n",
    "    df = pd.read_csv(csv)\n",
    "    hdf = df['Created Date'] #filters dataframe to only include 'Created Date' column\n",
    "    hdf['Converted Created Times'] = hdf['Created Date'].apply(convertTime, 0) #applies convertTime function to all datetime strings in 'Created Date' column\n",
    "    \n",
    "def endTime(string):\n",
    "    \"\"\"\n",
    "        Accepts a CSV file an creates a new dataframe of all timestamps for when a service request was fulfilled.\n",
    "        Data source: https://data.lacity.org/A-Well-Run-City/MyLA311-Service-Request-Data-2019/pvft-t768\n",
    "    \"\"\"   \n",
    "    df = pd.read_csv(csv)\n",
    "    hdf = df['Service Date']\n",
    "    hdf['Converted Service Times'] = hdf['Service Date'].apply(convertTime, 0) #applies convertTime function to all datetime strings in 'Service Date' column\n",
    "        \n",
    "    start_time = datetime.strptime('00:00:00 AM','%I:%M:%S %p') #Sets start time for filter\n",
    "    end_time = datetime.strptime('11:59:59 PM','%I:%M:%S %p') # Sets end time for filter\n",
    "    "
   ]
  },
  {
   "cell_type": "code",
   "execution_count": null,
   "metadata": {},
   "outputs": [],
   "source": []
  },
  {
   "cell_type": "code",
   "execution_count": null,
   "metadata": {},
   "outputs": [],
   "source": []
  }
 ],
 "metadata": {
  "kernelspec": {
   "display_name": "Python 3",
   "language": "python",
   "name": "python3"
  },
  "language_info": {
   "codemirror_mode": {
    "name": "ipython",
    "version": 3
   },
   "file_extension": ".py",
   "mimetype": "text/x-python",
   "name": "python",
   "nbconvert_exporter": "python",
   "pygments_lexer": "ipython3",
   "version": "3.7.4"
  }
 },
 "nbformat": 4,
 "nbformat_minor": 4
}
